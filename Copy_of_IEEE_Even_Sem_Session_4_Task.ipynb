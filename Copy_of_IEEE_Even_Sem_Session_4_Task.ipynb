{
  "nbformat": 4,
  "nbformat_minor": 0,
  "metadata": {
    "colab": {
      "provenance": []
    },
    "kernelspec": {
      "name": "python3",
      "display_name": "Python 3"
    },
    "language_info": {
      "name": "python"
    }
  },
  "cells": [
    {
      "cell_type": "markdown",
      "source": [
        "# Session 4\n",
        "\n",
        "This task is all about CNNs (Convolutional Neural Networks) \n",
        "\n",
        "It's recommend to read [the relevant chapter in the textbook](https://d2l.ai/chapter_convolutional-neural-networks/index.html) in case you have trouble remembering certain concepts about how CNNs work.\n",
        "\n",
        "[This lecture](https://www.youtube.com/watch?v=bNb2fEVKeEo) is also great in case you prefer video. \n",
        "\n",
        "We will be using the GTSRB (German Traffic Sign Recognition Benchmark) dataset.\n",
        "\n",
        "The goal is to predict which traffic sign an image represents from 43 classes.\n",
        "\n"
      ],
      "metadata": {
        "id": "AYfmnuy_q4Sb"
      }
    },
    {
      "cell_type": "markdown",
      "source": [
        "## As always, we start by importing the packages we need.\n",
        "\n",
        "Note: You'll notice here a new package called torchvision:\n",
        "> The torchvision package consists of popular datasets, model architectures, and common image transformations for computer vision"
      ],
      "metadata": {
        "id": "WTWWwuKP1o4q"
      }
    },
    {
      "cell_type": "code",
      "execution_count": 1,
      "metadata": {
        "id": "wAt93YbFqz8o"
      },
      "outputs": [],
      "source": [
        "import os\n",
        "import torch\n",
        "import torchvision\n",
        "from torch import nn\n",
        "import matplotlib.pyplot as plt"
      ]
    },
    {
      "cell_type": "markdown",
      "source": [
        "## First, we'll download the dataset. The dataset we'll be using is actually directly available to download using torchvision\n",
        "\n",
        "Torchvision contains a lot of public datasets that can be installed directly using the package. If you need datasets from other sources though, you'll need to download them yourself."
      ],
      "metadata": {
        "id": "njgkO3qH1Qp6"
      }
    },
    {
      "cell_type": "code",
      "source": [
        "#For more information see https://pytorch.org/vision/stable/datasets.html\n",
        "dataset = torchvision.datasets.GTSRB(root = \".\", download = True) # \".\" means current directory"
      ],
      "metadata": {
        "id": "DsabDXMFYJ4i",
        "colab": {
          "base_uri": "https://localhost:8080/"
        },
        "outputId": "59856888-5efd-40de-f380-47b9fad6c126"
      },
      "execution_count": 2,
      "outputs": [
        {
          "output_type": "stream",
          "name": "stdout",
          "text": [
            "Downloading https://sid.erda.dk/public/archives/daaeac0d7ce1152aea9b61d9f1e19370/GTSRB-Training_fixed.zip to gtsrb/GTSRB-Training_fixed.zip\n"
          ]
        },
        {
          "output_type": "stream",
          "name": "stderr",
          "text": [
            "100%|██████████| 187490228/187490228 [00:07<00:00, 23949647.58it/s]\n"
          ]
        },
        {
          "output_type": "stream",
          "name": "stdout",
          "text": [
            "Extracting gtsrb/GTSRB-Training_fixed.zip to gtsrb\n"
          ]
        }
      ]
    },
    {
      "cell_type": "markdown",
      "source": [
        "## Now that we've downloaded the dataset, let's inspect it. \n",
        "\n",
        "Do not that, unlike tabular datasets that can usually be represented in a single csv that you can read using pandas. Image datasets can have different formats and be organized in different ways. So a good idea is to check how the dataset is organized after downloading it and possibly reorganizing it."
      ],
      "metadata": {
        "id": "1LvRmEoG2UF8"
      }
    },
    {
      "cell_type": "markdown",
      "source": [
        "Note: we'll use shell commands to print folder contents and perform similar file system operations. We can do the same using python code but using shell commands can often be easier and more concise."
      ],
      "metadata": {
        "id": "IkuJByN62z85"
      }
    },
    {
      "cell_type": "code",
      "source": [
        "#Prints current working directory, can also instead use os.getcwd()\n",
        "!pwd"
      ],
      "metadata": {
        "id": "FgIzWUJc3GMA",
        "colab": {
          "base_uri": "https://localhost:8080/"
        },
        "outputId": "5c4f437f-cb3c-407c-dbd4-79034aeccb8b"
      },
      "execution_count": 3,
      "outputs": [
        {
          "output_type": "stream",
          "name": "stdout",
          "text": [
            "/content\n"
          ]
        }
      ]
    },
    {
      "cell_type": "code",
      "source": [
        "#List contents of argument folder, can also instead type os.listdir(directory_path)\n",
        "\n",
        "!ls . # \".\" means current directory"
      ],
      "metadata": {
        "id": "UB0S_H2CYV0A",
        "colab": {
          "base_uri": "https://localhost:8080/"
        },
        "outputId": "4c3c167f-415a-45e7-ea44-772b528c198d"
      },
      "execution_count": 4,
      "outputs": [
        {
          "output_type": "stream",
          "name": "stdout",
          "text": [
            "gtsrb  sample_data\n"
          ]
        }
      ]
    },
    {
      "cell_type": "markdown",
      "source": [
        "## After listing a few directories, we arrive at the directory with the training data. We find some numbered folders and a readme file. Let's see what it has to say! "
      ],
      "metadata": {
        "id": "fxeGXedY4YCZ"
      }
    },
    {
      "cell_type": "code",
      "source": [
        "!ls gtsrb/GTSRB/Training"
      ],
      "metadata": {
        "id": "_wO0lMgI3v5G",
        "colab": {
          "base_uri": "https://localhost:8080/"
        },
        "outputId": "9fc19129-abc5-4a8e-9506-a3701c1267a3"
      },
      "execution_count": 5,
      "outputs": [
        {
          "output_type": "stream",
          "name": "stdout",
          "text": [
            "00000  00005  00010  00015  00020  00025  00030  00035\t00040\n",
            "00001  00006  00011  00016  00021  00026  00031  00036\t00041\n",
            "00002  00007  00012  00017  00022  00027  00032  00037\t00042\n",
            "00003  00008  00013  00018  00023  00028  00033  00038\tReadme.txt\n",
            "00004  00009  00014  00019  00024  00029  00034  00039\n"
          ]
        }
      ]
    },
    {
      "cell_type": "code",
      "source": [
        "!cat gtsrb/GTSRB/Training/Readme.txt"
      ],
      "metadata": {
        "id": "WJLBcEUA4lps",
        "colab": {
          "base_uri": "https://localhost:8080/"
        },
        "outputId": "284e34f2-8c62-4c9d-a11e-228cb5adb562"
      },
      "execution_count": 6,
      "outputs": [
        {
          "output_type": "stream",
          "name": "stdout",
          "text": [
            "**********************************************\r\n",
            "The German Traffic Sign Recognition Benchmark\r\n",
            "**********************************************\r\n",
            "\r\n",
            "This archive contains the training set of the \r\n",
            "\"German Traffic Sign Recognition Benchmark\".\r\n",
            "\r\n",
            "This training set is supposed be used for the online competition \r\n",
            "as part of the IJCNN 2011 competition. It is a subset of the final\r\n",
            "training set that will be published after the online competition is\r\n",
            "closed. \r\n",
            "\r\n",
            "\r\n",
            "**********************************************\r\n",
            "Archive content\r\n",
            "**********************************************\r\n",
            "This archive contains the following structure:\r\n",
            "\r\n",
            "There is one directory for each of the 43 classes (0000 - 00043).\r\n",
            "Each directory contains the corresponding training images and one \r\n",
            "text file with annotations, eg. GT-00000.csv. \r\n",
            "\r\n",
            "\r\n",
            "**********************************************\r\n",
            "Image format and naming\r\n",
            "**********************************************\r\n",
            "The images are PPM images (RGB color). Files are numbered in two parts:\r\n",
            "\r\n",
            "   XXXXX_YYYYY.ppm\r\n",
            "\r\n",
            "The first part, XXXXX, represents the track number. All images of one class \r\n",
            "with identical track numbers originate from one single physical traffic sign.\r\n",
            "The second part, YYYYY, is a running number within the track. The temporal order\r\n",
            "of the images is preserved.\r\n",
            "\r\n",
            "\r\n",
            "**********************************************\r\n",
            "Annotation format\r\n",
            "**********************************************\r\n",
            "\r\n",
            "The annotations are stored in CSV format (field separator\r\n",
            "is \";\" (semicolon) ). The annotations contain meta information \r\n",
            "about the image and the class id.\r\n",
            "\r\n",
            "\r\n",
            "In detail, the annotations provide the following fields:\r\n",
            "\r\n",
            "Filename        - Image file the following information applies to\r\n",
            "Width, Height   - Dimensions of the image\r\n",
            "Roi.x1,Roi.y1,\r\n",
            "Roi.x2,Roi.y2   - Location of the sign within the image\r\n",
            "\t\t  (Images contain a border around the actual sign\r\n",
            "                  of 10 percent of the sign size, at least 5 pixel)\r\n",
            "ClassId         - The class of the traffic sign\r\n",
            "\r\n",
            "\r\n",
            "**********************************************\r\n",
            "Further information\r\n",
            "**********************************************\r\n",
            "For more information on the competition procedures and to obtain the test set, \r\n",
            "please visit the competition website at\r\n",
            "\r\n",
            "\thttp://benchmark.ini.rub.de\r\n",
            "\r\n",
            "If you have any questions, do not hesitate to contact us \r\n",
            "    \r\n",
            "\ttsr-benchmark@ini.rub.de\r\n",
            "\r\n",
            "\r\n",
            "**********************************************\r\n",
            "Institut f�r Neuroinformatik\r\n",
            "Real-time computer vision research group\r\n",
            "\r\n",
            "Ruhr-Universit�t Bochum\r\n",
            "Germany\r\n",
            "**********************************************"
          ]
        }
      ]
    },
    {
      "cell_type": "markdown",
      "source": [
        "## Alright, seems like every folder in the previous directory is for a single class. There's also a csv file in every class directory that has additional labels but in this task we're only interested in classifying images into different classes so the folder name is enough as a label. "
      ],
      "metadata": {
        "id": "L1OBQ8QZ5nE-"
      }
    },
    {
      "cell_type": "markdown",
      "source": [
        "## Now that we know the directory where our data is placed and how it's organized. We can save the directory path to a variable to avoid typing it over and over. "
      ],
      "metadata": {
        "id": "2FvrdsBs6mbk"
      }
    },
    {
      "cell_type": "code",
      "source": [
        "training_dir = \"/content/gtsrb/GTSRB/Training/\""
      ],
      "metadata": {
        "id": "3jF6GKXH6z1U"
      },
      "execution_count": 7,
      "outputs": []
    },
    {
      "cell_type": "markdown",
      "source": [
        "Tip: we can also use python variables in shell commands when using notebooks! We need to wrap them in braces {}."
      ],
      "metadata": {
        "id": "ww4cN4OhTAaI"
      }
    },
    {
      "cell_type": "code",
      "source": [
        "!ls {training_dir}"
      ],
      "metadata": {
        "id": "Tb2ubIAnTAAk",
        "colab": {
          "base_uri": "https://localhost:8080/"
        },
        "outputId": "e6cdfb3c-da44-4729-94e0-9e65f380d042"
      },
      "execution_count": 8,
      "outputs": [
        {
          "output_type": "stream",
          "name": "stdout",
          "text": [
            "00000  00005  00010  00015  00020  00025  00030  00035\t00040\n",
            "00001  00006  00011  00016  00021  00026  00031  00036\t00041\n",
            "00002  00007  00012  00017  00022  00027  00032  00037\t00042\n",
            "00003  00008  00013  00018  00023  00028  00033  00038\tReadme.txt\n",
            "00004  00009  00014  00019  00024  00029  00034  00039\n"
          ]
        }
      ]
    },
    {
      "cell_type": "code",
      "source": [
        "!ls {training_dir}/00000"
      ],
      "metadata": {
        "id": "5nXDOWSk7gp2",
        "colab": {
          "base_uri": "https://localhost:8080/"
        },
        "outputId": "ece6a9b8-6ede-4969-9eb9-e957d8854aea"
      },
      "execution_count": 9,
      "outputs": [
        {
          "output_type": "stream",
          "name": "stdout",
          "text": [
            "00000_00000.ppm  00001_00008.ppm  00002_00016.ppm  00003_00024.ppm\n",
            "00000_00001.ppm  00001_00009.ppm  00002_00017.ppm  00003_00025.ppm\n",
            "00000_00002.ppm  00001_00010.ppm  00002_00018.ppm  00003_00026.ppm\n",
            "00000_00003.ppm  00001_00011.ppm  00002_00019.ppm  00003_00027.ppm\n",
            "00000_00004.ppm  00001_00012.ppm  00002_00020.ppm  00003_00028.ppm\n",
            "00000_00005.ppm  00001_00013.ppm  00002_00021.ppm  00003_00029.ppm\n",
            "00000_00006.ppm  00001_00014.ppm  00002_00022.ppm  00004_00000.ppm\n",
            "00000_00007.ppm  00001_00015.ppm  00002_00023.ppm  00004_00001.ppm\n",
            "00000_00008.ppm  00001_00016.ppm  00002_00024.ppm  00004_00002.ppm\n",
            "00000_00009.ppm  00001_00017.ppm  00002_00025.ppm  00004_00003.ppm\n",
            "00000_00010.ppm  00001_00018.ppm  00002_00026.ppm  00004_00004.ppm\n",
            "00000_00011.ppm  00001_00019.ppm  00002_00027.ppm  00004_00005.ppm\n",
            "00000_00012.ppm  00001_00020.ppm  00002_00028.ppm  00004_00006.ppm\n",
            "00000_00013.ppm  00001_00021.ppm  00002_00029.ppm  00004_00007.ppm\n",
            "00000_00014.ppm  00001_00022.ppm  00003_00000.ppm  00004_00008.ppm\n",
            "00000_00015.ppm  00001_00023.ppm  00003_00001.ppm  00004_00009.ppm\n",
            "00000_00016.ppm  00001_00024.ppm  00003_00002.ppm  00004_00010.ppm\n",
            "00000_00017.ppm  00001_00025.ppm  00003_00003.ppm  00004_00011.ppm\n",
            "00000_00018.ppm  00001_00026.ppm  00003_00004.ppm  00004_00012.ppm\n",
            "00000_00019.ppm  00001_00027.ppm  00003_00005.ppm  00004_00013.ppm\n",
            "00000_00020.ppm  00001_00028.ppm  00003_00006.ppm  00004_00014.ppm\n",
            "00000_00021.ppm  00001_00029.ppm  00003_00007.ppm  00004_00015.ppm\n",
            "00000_00022.ppm  00002_00000.ppm  00003_00008.ppm  00004_00016.ppm\n",
            "00000_00023.ppm  00002_00001.ppm  00003_00009.ppm  00004_00017.ppm\n",
            "00000_00024.ppm  00002_00002.ppm  00003_00010.ppm  00004_00018.ppm\n",
            "00000_00025.ppm  00002_00003.ppm  00003_00011.ppm  00004_00019.ppm\n",
            "00000_00026.ppm  00002_00004.ppm  00003_00012.ppm  00004_00020.ppm\n",
            "00000_00027.ppm  00002_00005.ppm  00003_00013.ppm  00004_00021.ppm\n",
            "00000_00028.ppm  00002_00006.ppm  00003_00014.ppm  00004_00022.ppm\n",
            "00000_00029.ppm  00002_00007.ppm  00003_00015.ppm  00004_00023.ppm\n",
            "00001_00000.ppm  00002_00008.ppm  00003_00016.ppm  00004_00024.ppm\n",
            "00001_00001.ppm  00002_00009.ppm  00003_00017.ppm  00004_00025.ppm\n",
            "00001_00002.ppm  00002_00010.ppm  00003_00018.ppm  00004_00026.ppm\n",
            "00001_00003.ppm  00002_00011.ppm  00003_00019.ppm  00004_00027.ppm\n",
            "00001_00004.ppm  00002_00012.ppm  00003_00020.ppm  00004_00028.ppm\n",
            "00001_00005.ppm  00002_00013.ppm  00003_00021.ppm  00004_00029.ppm\n",
            "00001_00006.ppm  00002_00014.ppm  00003_00022.ppm  GT-00000.csv\n",
            "00001_00007.ppm  00002_00015.ppm  00003_00023.ppm\n"
          ]
        }
      ]
    },
    {
      "cell_type": "markdown",
      "source": [
        "## Now it's a good idea to inspect some images to see their size and verify they're correct."
      ],
      "metadata": {
        "id": "DtNhEPK563Ct"
      }
    },
    {
      "cell_type": "markdown",
      "source": [
        "Here are the class names we're predicting in order."
      ],
      "metadata": {
        "id": "Rrq3H_Bn9sy1"
      }
    },
    {
      "cell_type": "code",
      "source": [
        "classes = ['Speed limit (20km/h)', \n",
        " 'Speed limit (30km/h)', \n",
        " 'Speed limit (50km/h)', \n",
        " 'Speed limit (60km/h)', \n",
        " 'Speed limit (70km/h)', \n",
        " 'Speed limit (80km/h)', \n",
        " 'End of speed limit (80km/h)',\n",
        " 'Speed limit (100km/h)', \n",
        " 'Speed limit (120km/h)',\n",
        " 'No passing',\n",
        " 'No passing veh over 3.5 tons',\n",
        " 'Right-of-way at intersection',\n",
        " 'Priority road', \n",
        " 'Yield',\n",
        " 'Stop',\n",
        " 'No vehicles',\n",
        " 'Veh > 3.5 tons prohibited',\n",
        " 'No entry',\n",
        " 'General caution',\n",
        " 'Dangerous curve left',\n",
        " 'Dangerous curve right',\n",
        " 'Double curve',\n",
        " 'Bumpy road',\n",
        " 'Slippery road',\n",
        " 'Road narrows on the right',\n",
        " 'Road work',\n",
        " 'Traffic signals',\n",
        " 'Pedestrians', \n",
        " 'Children crossing',\n",
        " 'Bicycles crossing',\n",
        " 'Beware of ice/snow',\n",
        " 'Wild animals crossing', \n",
        " 'End speed + passing limits',\n",
        " 'Turn right ahead',\n",
        " 'Turn left ahead',\n",
        " 'Ahead only',\n",
        " 'Go straight or right',\n",
        " 'Go straight or left',\n",
        " 'Keep right',\n",
        " 'Keep left',\n",
        " 'Roundabout mandatory',\n",
        " 'End of no passing',\n",
        " 'End no passing veh > 3.5 tons']\n",
        "\n",
        "num_classes = len(classes)"
      ],
      "metadata": {
        "id": "gvuXPVEM9teq"
      },
      "execution_count": 10,
      "outputs": []
    },
    {
      "cell_type": "markdown",
      "source": [
        "## We'll use OpenCV to load images. OpenCV is the most popular python library for manipulating images (along with Pillow, but Pillow is written in Python while OpenCV is written in C and C++ so it's faster)"
      ],
      "metadata": {
        "id": "JKt-KrzpbxTs"
      }
    },
    {
      "cell_type": "code",
      "source": [
        "#Importing OpenCV\n",
        "import cv2 \n",
        "#For selecting random directories and images\n",
        "import random \n",
        "\n",
        "#Choose a random class from the training directory\n",
        "random_class = random.choice(os.listdir(training_dir))\n",
        "#Choose a random image within the class \n",
        "random_image = random.choice(os.listdir(f\"{training_dir}/{random_class}\"))\n",
        "\n",
        "\n",
        "img = cv2.imread(f\"{training_dir}/{random_class}/{random_image}\")\n",
        "#OpenCV uses BGR instead of RGB so we need to convert it\n",
        "# https://stackoverflow.com/a/33787594\n",
        "img = cv2.cvtColor(img, cv2.COLOR_BGR2RGB)\n",
        "\n",
        "plt.title(f\"Showing class: {classes[int(random_class[3:])]} | Image shape: {img.shape}\")\n",
        "plt.imshow(img)"
      ],
      "metadata": {
        "id": "yDryv_5R7QK1",
        "colab": {
          "base_uri": "https://localhost:8080/",
          "height": 469
        },
        "outputId": "0c93cf5e-81f0-4ee1-9bd5-4a0bee849860"
      },
      "execution_count": 11,
      "outputs": [
        {
          "output_type": "execute_result",
          "data": {
            "text/plain": [
              "<matplotlib.image.AxesImage at 0x7fd6deef73a0>"
            ]
          },
          "metadata": {},
          "execution_count": 11
        },
        {
          "output_type": "display_data",
          "data": {
            "text/plain": [
              "<Figure size 640x480 with 1 Axes>"
            ],
            "image/png": "[encoded data removed]"
          },
          "metadata": {}
        }
      ]
    },
    {
      "cell_type": "markdown",
      "source": [
        "## Now we're ready to start preparing the dataset and the model for training. We'll start by preparing the dataset.\n",
        "\n",
        "> Transforms are common image transformations available in the torchvision.transforms module. They can be chained together using Compose."
      ],
      "metadata": {
        "id": "x_Wftt_gMxXu"
      }
    },
    {
      "cell_type": "code",
      "source": [
        "from torchvision import transforms\n",
        "\n",
        "batch_size = 4\n",
        "\n",
        "#For more information see: https://pytorch.org/vision/main/transforms.html\n",
        "transform = transforms.Compose([\n",
        "    # You can add other transformations in this list\n",
        "    transforms.Resize((40,40)),\n",
        "    transforms.ToTensor()\n",
        "])\n",
        "\n",
        "#Use ImageFolder to load the dataset\n",
        "dataset = torchvision.datasets.ImageFolder(training_dir, transform=transform)\n",
        "#Split the dataset into training and validation sets\n",
        "train_ds, val_ds = torch.utils.data.random_split(dataset, [0.8, 0.2])\n",
        "\n",
        "\n",
        "#Define dataloaders to load the images in batches of size batch_size\n",
        "train_dataloader = torch.utils.data.DataLoader(train_ds, batch_size, shuffle=True,\n",
        "                                         drop_last=True)\n",
        "\n",
        "val_dataloader = torch.utils.data.DataLoader(val_ds, batch_size, shuffle=True,\n",
        "                                         drop_last=True)"
      ],
      "metadata": {
        "id": "GGLWwsTLY1aB"
      },
      "execution_count": 12,
      "outputs": []
    },
    {
      "cell_type": "markdown",
      "source": [
        "## We can have a closer look at the dataloader to see how it differs from the dataset"
      ],
      "metadata": {
        "id": "32pMUoJ03jP2"
      }
    },
    {
      "cell_type": "code",
      "source": [
        "for X,y in train_dataloader:\n",
        "  # X has shape (batch_size, n_channels, height, width)\n",
        "  # y has shape (batch_size,)\n",
        "  # Each iteration provides a single batch till the dataset ends\n",
        "  print(X.shape, y)\n",
        "  break"
      ],
      "metadata": {
        "id": "NlXs4x9GoyhS",
        "colab": {
          "base_uri": "https://localhost:8080/"
        },
        "outputId": "ed85c7fb-a9bb-47e6-e366-a7db28c35df3"
      },
      "execution_count": 13,
      "outputs": [
        {
          "output_type": "stream",
          "name": "stdout",
          "text": [
            "torch.Size([4, 3, 40, 40]) tensor([35, 14, 12, 18])\n"
          ]
        }
      ]
    },
    {
      "cell_type": "markdown",
      "source": [
        "## We can also inspect class frequencies from the dataset to see if some classes are underrepresented"
      ],
      "metadata": {
        "id": "hMuakyMX3i7d"
      }
    },
    {
      "cell_type": "code",
      "source": [
        "from collections import Counter\n",
        "\n",
        "classes_freqs = Counter(dataset.targets)\n",
        "\n",
        "plt.bar(classes_freqs.keys(), classes_freqs.values())"
      ],
      "metadata": {
        "id": "HbICztd918dF",
        "colab": {
          "base_uri": "https://localhost:8080/",
          "height": 447
        },
        "outputId": "a07257df-60f6-4a56-a3eb-3bd060ce977e"
      },
      "execution_count": 14,
      "outputs": [
        {
          "output_type": "execute_result",
          "data": {
            "text/plain": [
              "<BarContainer object of 43 artists>"
            ]
          },
          "metadata": {},
          "execution_count": 14
        },
        {
          "output_type": "display_data",
          "data": {
            "text/plain": [
              "<Figure size 640x480 with 1 Axes>"
            ],
            "image/png": "[encoded data removed]"
          },
          "metadata": {}
        }
      ]
    },
    {
      "cell_type": "markdown",
      "source": [
        "## Now let's define the network \n",
        "\n",
        "We'll be using a simple network with an architecture similar to [LeNet](https://d2l.ai/chapter_convolutional-neural-networks/lenet.html)"
      ],
      "metadata": {
        "id": "zPweqLPCmsOi"
      }
    },
    {
      "cell_type": "code",
      "source": [
        "num_classes = 43\n",
        "\n",
        "net = nn.Sequential(\n",
        "            nn.Conv2d(3, 6, kernel_size=5, padding=2), \n",
        "            nn.ReLU(),\n",
        "            \n",
        "            nn.MaxPool2d(kernel_size=2, stride=2),\n",
        "            #TODO: Add a nn.Conv2d layer with 6 input channels, \n",
        "            #      16 output channels, and a kernel_size=5\n",
        "            nn.Conv2d(6, 16, kernel_size=5),\n",
        "            #TODO: Add a nn.ReLU activation\n",
        "            nn.ReLU(),\n",
        "            #TODO: Add a nn.MaxPool2d layer with kernel_size=2 and stride=2 \n",
        "            nn.MaxPool2d(kernel_size=2, stride=2),\n",
        "            #TODO: Add a nn.Flatten() before using Linear layers\n",
        "            nn.Flatten(),\n",
        "            #TODO: Add a nn.Linear with input 1024 and output 512\n",
        "            nn.Linear(1024, 512),\n",
        "            #TODO: Add a nn.ReLU activation\n",
        "            nn.ReLU(),\n",
        "            #TODO: Add a nn.Linear with input 512 and output 256\n",
        "            nn.Linear(512, 256),\n",
        "            #TODO: Add a nn.ReLU activation\n",
        "            nn.ReLU(),\n",
        "            #TODO: Add a nn.Linear with input 256 and output=num_classes\n",
        "            nn.Linear(256, num_classes)\n",
        "            )\n",
        "\n",
        "\n",
        "def init_weights(layer):\n",
        "    if isinstance(layer, nn.Linear) or isinstance(layer, nn.Conv2d):\n",
        "        #TOOD: call torch.nn.init.xavier_uniform_ on layer.weight\n",
        "        nn.init.xavier_uniform_(layer.weight)\n",
        "        layer.bias.data.fill_(0.01)\n",
        "\n",
        "#Initialize weights using Xavier transform\n",
        "net.apply(init_weights)"
      ],
      "metadata": {
        "id": "W5gQzs71NpeT",
        "colab": {
          "base_uri": "https://localhost:8080/"
        },
        "outputId": "7888d2e2-1f1e-4ded-81cd-06c07d35385f"
      },
      "execution_count": 15,
      "outputs": [
        {
          "output_type": "execute_result",
          "data": {
            "text/plain": [
              "Sequential(\n",
              "  (0): Conv2d(3, 6, kernel_size=(5, 5), stride=(1, 1), padding=(2, 2))\n",
              "  (1): ReLU()\n",
              "  (2): MaxPool2d(kernel_size=2, stride=2, padding=0, dilation=1, ceil_mode=False)\n",
              "  (3): Conv2d(6, 16, kernel_size=(5, 5), stride=(1, 1))\n",
              "  (4): ReLU()\n",
              "  (5): MaxPool2d(kernel_size=2, stride=2, padding=0, dilation=1, ceil_mode=False)\n",
              "  (6): Flatten(start_dim=1, end_dim=-1)\n",
              "  (7): Linear(in_features=1024, out_features=512, bias=True)\n",
              "  (8): ReLU()\n",
              "  (9): Linear(in_features=512, out_features=256, bias=True)\n",
              "  (10): ReLU()\n",
              "  (11): Linear(in_features=256, out_features=43, bias=True)\n",
              ")"
            ]
          },
          "metadata": {},
          "execution_count": 15
        }
      ]
    },
    {
      "cell_type": "code",
      "source": [
        "epochs = 8\n",
        "\n",
        "\n",
        "#TODO: Select torch.optim.Adam and use net.parameters() as an argument \n",
        "#      For more information see: \n",
        "#      https://pytorch.org/docs/stable/generated/torch.optim.Adam.html\n",
        "optim = torch.optim.Adam(net.parameters())\n",
        "#TODO: Select nn.CrossEntropyLoss() as a loss function\n",
        "loss_fn = nn.CrossEntropyLoss()\n",
        "\n",
        "train_losses = []\n",
        "val_losses = []\n",
        "\n",
        "for epoch in range(epochs):\n",
        "    #TODO: Call net.train() to start training mode\n",
        "    net.train()\n",
        "    train_correct = 0\n",
        "    train_loss = 0\n",
        "    for X, y in train_dataloader:\n",
        "        #TODO: Call optim.zero_grad to zero out the gradient\n",
        "        optim.zero_grad()\n",
        "        #TODO: call net on the input X to generate predictions\n",
        "        pred =net(X) \n",
        "        #TODO: Calculate loss using loss_fn on pred and y \n",
        "        loss = loss_fn(pred, y)\n",
        "        #See: https://stackoverflow.com/a/61094330 \n",
        "        train_loss += loss.item() * X.size(0)\n",
        "        pred = torch.argmax(pred, dim=-1)\n",
        "        train_correct += (pred == y).float().sum()\n",
        "        #TODO: Call loss.backward and optim.step\n",
        "        loss.backward()\n",
        "        optim.step()\n",
        "\n",
        "    #TODO: Put the network into eval mode\n",
        "    net.eval()\n",
        "    val_correct = 0\n",
        "    val_loss = 0\n",
        "\n",
        "    for X, y in val_dataloader:\n",
        "      #TODO: Generate predictions and calculate loss\n",
        "      pred = net(X)\n",
        "      loss = loss_fn(pred, y)\n",
        "      \n",
        "      val_loss += loss.item() * X.size(0)\n",
        "      pred = torch.argmax(pred, dim=-1)\n",
        "      val_correct += (pred == y).float().sum()\n",
        "\n",
        "\n",
        "\n",
        "    train_loss /= len(train_ds)\n",
        "    train_losses.append(train_loss)\n",
        "\n",
        "    val_loss /= len(val_ds)\n",
        "    val_losses.append(val_loss)\n",
        "\n",
        "    train_accuracy = 100 * train_correct / len(train_ds)\n",
        "    val_accuracy = 100 * val_correct / len(val_ds)\n",
        "\n",
        "    print(f\"Epoch: {epoch} Train loss: {train_loss} Train accuracy: {train_accuracy} \\\n",
        "                           Val loss: {val_loss} Val accuracy: {val_accuracy}\")\n"
      ],
      "metadata": {
        "id": "FB7Rdq8_M2d8",
        "colab": {
          "base_uri": "https://localhost:8080/"
        },
        "outputId": "6ef7414b-972b-4d61-f226-fff3ad422dd1"
      },
      "execution_count": 17,
      "outputs": [
        {
          "output_type": "stream",
          "name": "stdout",
          "text": [
            "Epoch: 0 Train loss: 0.3184134896959084 Train accuracy: 90.3575439453125                            Val loss: 0.15243680435679788 Val accuracy: 94.85736083984375\n",
            "Epoch: 1 Train loss: 0.14445245750324356 Train accuracy: 95.89433288574219                            Val loss: 0.25904644656619363 Val accuracy: 94.969970703125\n",
            "Epoch: 2 Train loss: 0.09887927372094615 Train accuracy: 97.13776397705078                            Val loss: 0.06356630078754756 Val accuracy: 98.3108139038086\n",
            "Epoch: 3 Train loss: 0.08895813143855413 Train accuracy: 97.56944274902344                            Val loss: 0.16615513229737192 Val accuracy: 95.7957992553711\n",
            "Epoch: 4 Train loss: 0.07728133643187503 Train accuracy: 98.09027862548828                            Val loss: 0.13913392483980722 Val accuracy: 96.88438415527344\n",
            "Epoch: 5 Train loss: 0.07313441070593206 Train accuracy: 98.16535186767578                            Val loss: 0.09139116112854456 Val accuracy: 98.10435485839844\n",
            "Epoch: 6 Train loss: 0.07179248613787292 Train accuracy: 98.35304260253906                            Val loss: 0.08584839269084724 Val accuracy: 98.14189147949219\n",
            "Epoch: 7 Train loss: 0.07241385125128882 Train accuracy: 98.54072570800781                            Val loss: 0.16066361470258955 Val accuracy: 97.61636352539062\n"
          ]
        }
      ]
    },
    {
      "cell_type": "markdown",
      "source": [
        "## Now we can plot train and validation losses per epoch as well as accuracy"
      ],
      "metadata": {
        "id": "YYzI3hQpFMlY"
      }
    },
    {
      "cell_type": "code",
      "source": [
        "plt.plot(range(epochs), train_losses, val_losses)\n",
        "plt.legend(['train loss', 'val loss'])"
      ],
      "metadata": {
        "id": "PPO6PstqiMcr",
        "colab": {
          "base_uri": "https://localhost:8080/",
          "height": 447
        },
        "outputId": "36bc57da-be12-40eb-8970-0501097cbefd"
      },
      "execution_count": 18,
      "outputs": [
        {
          "output_type": "execute_result",
          "data": {
            "text/plain": [
              "<matplotlib.legend.Legend at 0x7fd6ddf72b30>"
            ]
          },
          "metadata": {},
          "execution_count": 18
        },
        {
          "output_type": "display_data",
          "data": {
            "text/plain": [
              "<Figure size 640x480 with 1 Axes>"
            ],
            "image/png": "[encoded data removed]"
          },
          "metadata": {}
        }
      ]
    },
    {
      "cell_type": "markdown",
      "source": [
        "# Let's choose some random images from the validation set and see how our model performs."
      ],
      "metadata": {
        "id": "nECTiu931Tqc"
      }
    },
    {
      "cell_type": "code",
      "source": [
        "net.eval()\n",
        "X,y = next(iter(val_dataloader))\n",
        "\n",
        "pred = net(X)\n",
        "pred = torch.argmax(pred, dim=-1)\n",
        "\n",
        "i = 0\n",
        "for image,prediction, label in zip(X,pred, y):\n",
        "  plt.title(f\"Predicted: {classes[prediction]} Actual class: {classes[label]}\")\n",
        "  plt.imshow(  image.permute(1, 2, 0)  )\n",
        "  plt.figure(i+1)\n",
        "  i += 1\n",
        "\n",
        "plt.show()"
      ],
      "metadata": {
        "id": "WxXXJlv41SQh",
        "colab": {
          "base_uri": "https://localhost:8080/",
          "height": 1000
        },
        "outputId": "90e8c17a-f6dc-48b9-b700-31703ae51a62"
      },
      "execution_count": 19,
      "outputs": [
        {
          "output_type": "display_data",
          "data": {
            "text/plain": [
              "<Figure size 640x480 with 1 Axes>"
            ],
            "image/png": "[encoded data removed]"
          },
          "metadata": {}
        },
        {
          "output_type": "display_data",
          "data": {
            "text/plain": [
              "<Figure size 640x480 with 1 Axes>"
            ],
            "image/png": "[encoded data removed]"
          },
          "metadata": {}
        },
        {
          "output_type": "display_data",
          "data": {
            "text/plain": [
              "<Figure size 640x480 with 1 Axes>"
            ],
            "image/png": "[encoded data removed]"
          },
          "metadata": {}
        },
        {
          "output_type": "display_data",
          "data": {
            "text/plain": [
              "<Figure size 640x480 with 0 Axes>"
            ]
          },
          "metadata": {}
        }
      ]
    },
    {
      "cell_type": "markdown",
      "source": [
        "#That's it!\n",
        "\n",
        "You can go further by trying different datasets (e.g CIFAR-10, ImageNet), different architectures (e.g VGG, ResNets), and different hyperparameters, image augmentation methods, and by seeing different Kaggle Image competitions and reading different solution.  "
      ],
      "metadata": {
        "id": "xWNyxO2MMlEQ"
      }
    }
  ]
}